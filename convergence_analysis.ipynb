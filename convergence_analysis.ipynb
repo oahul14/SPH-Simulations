{
 "cells": [
  {
   "cell_type": "code",
   "execution_count": 27,
   "metadata": {},
   "outputs": [],
   "source": [
    "import vtk\n",
    "from vtk.util.numpy_support import vtk_to_numpy\n",
    "import numpy as np\n",
    "import pandas as pd\n",
    "import os\n",
    "import matplotlib.pyplot as plt"
   ]
  },
  {
   "cell_type": "code",
   "execution_count": 23,
   "metadata": {},
   "outputs": [],
   "source": [
    "def read_data(dname, vlist, plist, poslist, sizelist):\n",
    "    folder = os.path.join(os.getcwd(), \"convergence_data\", dname)\n",
    "    print(sorted(os.listdir(folder)))\n",
    "    for filename in sorted(os.listdir(folder)):\n",
    "        reader = vtk.vtkXMLPolyDataReader()\n",
    "        reader.SetFileName(os.path.join(folder, filename))\n",
    "        reader.Update()\n",
    "        pdata = reader.GetOutput()\n",
    "        num_particle = pdata.GetNumberOfPoints()\n",
    "        vlist.append(vtk_to_numpy(pdata.GetPointData().GetArray(\"Velocity\"))[:, :-1])\n",
    "        plist.append(vtk_to_numpy(pdata.GetPointData().GetArray(\"Pressure\")))\n",
    "\n",
    "        pos = np.zeros((num_particle, 2))\n",
    "        for i in range(num_particle):\n",
    "            pos[i, 0] = pdata.GetPoint(i)[0]\n",
    "            pos[i, 1] = pdata.GetPoint(i)[1]\n",
    "        poslist.append(pos)\n",
    "        sizelist.append(num_particle)\n",
    "    return vlist, plist, poslist, sizelist"
   ]
  },
  {
   "cell_type": "code",
   "execution_count": 24,
   "metadata": {},
   "outputs": [],
   "source": [
    "def compare_mesh(i):\n",
    "    dx = dxlist[i]\n",
    "    bsize = 2 * 1.3 * dx\n",
    "    locs = poslist[i]\n",
    "    ps = plist[i]\n",
    "    vs = vlist[i]\n",
    "\n",
    "    inum = int((20 + bsize) / bsize) + 1\n",
    "    jnum = int((10 + bsize) / bsize) + 1\n",
    "    grids = np.zeros((inum, jnum, 2))\n",
    "    pdiff_grids = np.zeros((inum-1, jnum-1, 1))\n",
    "    vdiff_grids = np.zeros((inum-1, jnum-1, 1))\n",
    "    for ig in range(inum):\n",
    "        for jg in range(jnum):\n",
    "            grids[ig, jg, 0] = -bsize + ig * bsize\n",
    "            grids[ig, jg, 1] = -bsize + jg * bsize\n",
    "    for ii in range(inum-1):\n",
    "        for jj in range(jnum-1):\n",
    "            xmin, ymin = grids[ii, jj, 0], grids[ii, jj, 1]\n",
    "            xmax, ymax = grids[ii+1, jj+1, 0], grids[ii+1, jj+1, 1]\n",
    "            inbox = np.where((locs[:, 0] >= xmin) & (locs[:, 0] <= xmax) & (locs[:, 1] >= ymin) & (locs[:, 1] <= ymax)) \n",
    "            ref_inbox = np.where((ref_locs[:, 0] >= xmin) & (ref_locs[:, 0] <= xmax) & (ref_locs[:, 1] >= ymin) & (ref_locs[:, 1] <= ymax)) \n",
    "\n",
    "            pdiff_grids[ii, jj, 0] = np.abs(np.mean(ps[inbox]) - np.mean(np.mean(ref_ps[inbox])))\n",
    "            vdiff_grids[ii, jj, 0] = np.abs(np.mean(np.dot(vs[inbox][:, 0], vs[inbox][:, 1])) \\\n",
    "                                - np.mean(np.dot(ref_vs[ref_inbox][:, 0], ref_vs[ref_inbox][:, 1])))\n",
    "    pdiff = np.sqrt(np.nanmean(pdiff_grids))\n",
    "    vdiff = np.sqrt(np.nanmean(vdiff_grids))\n",
    "    return pdiff, vdiff"
   ]
  },
  {
   "cell_type": "code",
   "execution_count": 25,
   "metadata": {},
   "outputs": [],
   "source": [
    "dxlist = [0.02, 0.04, 0.05, 0.08, 0.1, 0.16, 0.2, 0.4, 0.5, 0.8]\n",
    "\n",
    "def get_diff(dname):\n",
    "    sizelist = []\n",
    "    vlist = []\n",
    "    plist = []\n",
    "    poslist = []\n",
    "    vlist, plist, poslist, sizelist = read_data(dname, vlist, plist, poslist, sizelist)\n",
    "    ref_dx = dxlist[0]\n",
    "    ref_locs = poslist[0]\n",
    "    ref_ps = plist[0]\n",
    "    ref_vs = vlist[0]\n",
    "    pdiff_list = np.zeros((len(dxlist) - 1))\n",
    "    vdiff_list = np.zeros((len(dxlist) - 1))\n",
    "    for i in range(1, len(dxlist)):\n",
    "        dx = dxlist[i]\n",
    "        bsize = 2 * 1.3 * dx\n",
    "        locs = poslist[i]\n",
    "        ps = plist[i]\n",
    "        vs = vlist[i]\n",
    "\n",
    "        inum = int((20 + bsize) / bsize) + 1\n",
    "        jnum = int((10 + bsize) / bsize) + 1\n",
    "        grids = np.zeros((inum, jnum, 2))\n",
    "        pdiff_grids = np.zeros((inum-1, jnum-1, 1))\n",
    "        vdiff_grids = np.zeros((inum-1, jnum-1, 1))\n",
    "        for ig in range(inum):\n",
    "            for jg in range(jnum):\n",
    "                grids[ig, jg, 0] = -bsize + ig * bsize\n",
    "                grids[ig, jg, 1] = -bsize + jg * bsize\n",
    "        for ii in range(inum-1):\n",
    "            for jj in range(jnum-1):\n",
    "                xmin, ymin = grids[ii, jj, 0], grids[ii, jj, 1]\n",
    "                xmax, ymax = grids[ii+1, jj+1, 0], grids[ii+1, jj+1, 1]\n",
    "                inbox = np.where((locs[:, 0] >= xmin) & (locs[:, 0] <= xmax) & (locs[:, 1] >= ymin) & (locs[:, 1] <= ymax)) \n",
    "                ref_inbox = np.where((ref_locs[:, 0] >= xmin) & (ref_locs[:, 0] <= xmax) & (ref_locs[:, 1] >= ymin) & (ref_locs[:, 1] <= ymax)) \n",
    "\n",
    "                pdiff_grids[ii, jj, 0] = np.abs(np.mean(ps[inbox]) - np.mean(np.mean(ref_ps[inbox])))\n",
    "                vdiff_grids[ii, jj, 0] = np.abs(np.mean(np.dot(vs[inbox][:, 0], vs[inbox][:, 1])) \\\n",
    "                                    - np.mean(np.dot(ref_vs[ref_inbox][:, 0], ref_vs[ref_inbox][:, 1])))\n",
    "                \n",
    "        pdiff_list[i-1] = np.sqrt(np.nanmean(pdiff_grids))\n",
    "        vdiff_list[i-1] = np.sqrt(np.nanmean(vdiff_grids))\n",
    "    return pdiff_list, vdiff_list"
   ]
  },
  {
   "cell_type": "code",
   "execution_count": 26,
   "metadata": {},
   "outputs": [
    {
     "name": "stdout",
     "output_type": "stream",
     "text": [
      "['ie_0.02.vtp', 'ie_0.04.vtp', 'ie_0.05.vtp', 'ie_0.08.vtp', 'ie_0.1.vtp', 'ie_0.16.vtp', 'ie_0.2.vtp', 'ie_0.4.vtp', 'ie_0.5.vtp', 'ie_0.8.vtp']\n",
      "ie pdiff:  [107.49123187 113.51755085 119.70105374 124.87077056 130.49965441\n",
      " 128.88620808 139.72684369 145.98254    132.62580034]\n",
      "ie vdiff:  [ 1.75234607  2.32719311  3.87416308  4.93181602  7.81997438  9.74302909\n",
      " 18.18846415 24.05635928 35.61992671]\n"
     ]
    }
   ],
   "source": [
    "ie_pdiff, ie_vdiff = get_diff('ie')\n",
    "print(\"ie pdiff: \", ie_pdiff)\n",
    "print(\"ie vdiff: \", ie_vdiff)"
   ]
  },
  {
   "cell_type": "code",
   "execution_count": 39,
   "metadata": {},
   "outputs": [
    {
     "data": {
      "text/plain": [
       "<matplotlib.legend.Legend at 0x11a115320>"
      ]
     },
     "execution_count": 39,
     "metadata": {},
     "output_type": "execute_result"
    },
    {
     "data": {
      "text/plain": [
       "<Figure size 1500x750 with 0 Axes>"
      ]
     },
     "metadata": {},
     "output_type": "display_data"
    },
    {
     "data": {
      "image/png": "[encoded data removed]",
      "text/plain": [
       "<Figure size 432x288 with 2 Axes>"
      ]
     },
     "metadata": {
      "needs_background": "light"
     },
     "output_type": "display_data"
    }
   ],
   "source": [
    "plt.figure(figsize=[10, 5], dpi=150)\n",
    "\n",
    "fig, ax1 = plt.subplots()\n",
    "\n",
    "ax1.set_title(\"Domain Property Convergence\")\n",
    "ax1.set_xlabel('dx')\n",
    "ax1.set_ylabel('P/Pa')\n",
    "ax1.plot(dxlist[1:], ie_pdiff, 'r-o', label='Pressure')\n",
    "\n",
    "ax2 = ax1.twiny()  # instantiate a second axes that shares the same x-axis\n",
    "\n",
    "ax2.set_ylabel('v/$m s^{-1}$')  # we already handled the x-label with ax1\n",
    "ax2.plot(dxlist[1:], ie_vdiff, 'b-o', label='Velocity')\n",
    "fig.legend()\n",
    "\n"
   ]
  },
  {
   "cell_type": "code",
   "execution_count": null,
   "metadata": {},
   "outputs": [],
   "source": []
  }
 ],
 "metadata": {
  "kernelspec": {
   "display_name": "Python 3",
   "language": "python",
   "name": "python3"
  },
  "language_info": {
   "codemirror_mode": {
    "name": "ipython",
    "version": 3
   },
   "file_extension": ".py",
   "mimetype": "text/x-python",
   "name": "python",
   "nbconvert_exporter": "python",
   "pygments_lexer": "ipython3",
   "version": "3.7.3"
  }
 },
 "nbformat": 4,
 "nbformat_minor": 2
}
