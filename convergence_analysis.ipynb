{
 "cells": [
  {
   "cell_type": "code",
   "execution_count": 1,
   "metadata": {},
   "outputs": [],
   "source": [
    "import vtk\n",
    "from vtk.util.numpy_support import vtk_to_numpy\n",
    "import numpy as np\n",
    "import pandas as pd\n",
    "import os"
   ]
  },
  {
   "cell_type": "code",
   "execution_count": 9,
   "metadata": {},
   "outputs": [],
   "source": [
    "def read_data(dname, vlist, plist, poslist, sizelist):\n",
    "    folder = os.path.join(os.getcwd(), \"convergence_data\", dname)\n",
    "    for filename in sorted(os.listdir(folder)):\n",
    "        reader = vtk.vtkXMLPolyDataReader()\n",
    "        reader.SetFileName(os.path.join(folder, filename))\n",
    "        reader.Update()\n",
    "        pdata = reader.GetOutput()\n",
    "        num_particle = pdata.GetNumberOfPoints()\n",
    "        vlist.append(vtk_to_numpy(pdata.GetPointData().GetArray(\"Velocity\"))[:, :-1])\n",
    "        plist.append(vtk_to_numpy(pdata.GetPointData().GetArray(\"Pressure\")))\n",
    "\n",
    "        pos = np.zeros((num_particle, 2))\n",
    "        for i in range(num_particle):\n",
    "            pos[i, 0] = pdata.GetPoint(i)[0]\n",
    "            pos[i, 1] = pdata.GetPoint(i)[1]\n",
    "        poslist.append(pos)\n",
    "        sizelist.append(num_particle)\n",
    "    return vlist, plist, poslist, sizelist"
   ]
  },
  {
   "cell_type": "code",
   "execution_count": 10,
   "metadata": {},
   "outputs": [],
   "source": [
    "def compare_mesh(i):\n",
    "    dx = dxlist[i]\n",
    "    bsize = 2 * 1.3 * dx\n",
    "    locs = poslist[i]\n",
    "    ps = plist[i]\n",
    "    vs = vlist[i]\n",
    "\n",
    "    inum = int((20 + bsize) / bsize) + 1\n",
    "    jnum = int((10 + bsize) / bsize) + 1\n",
    "    grids = np.zeros((inum, jnum, 2))\n",
    "    pdiff_grids = np.zeros((inum-1, jnum-1, 1))\n",
    "    vdiff_grids = np.zeros((inum-1, jnum-1, 1))\n",
    "    for ig in range(inum):\n",
    "        for jg in range(jnum):\n",
    "            grids[ig, jg, 0] = -bsize + ig * bsize\n",
    "            grids[ig, jg, 1] = -bsize + jg * bsize\n",
    "    for ii in range(inum-1):\n",
    "        for jj in range(jnum-1):\n",
    "            xmin, ymin = grids[ii, jj, 0], grids[ii, jj, 1]\n",
    "            xmax, ymax = grids[ii+1, jj+1, 0], grids[ii+1, jj+1, 1]\n",
    "            inbox = np.where((locs[:, 0] >= xmin) & (locs[:, 0] <= xmax) & (locs[:, 1] >= ymin) & (locs[:, 1] <= ymax)) \n",
    "            ref_inbox = np.where((ref_locs[:, 0] >= xmin) & (ref_locs[:, 0] <= xmax) & (ref_locs[:, 1] >= ymin) & (ref_locs[:, 1] <= ymax)) \n",
    "\n",
    "            pdiff_grids[ii, jj, 0] = np.abs(np.mean(ps[inbox]) - np.mean(np.mean(ref_ps[inbox])))\n",
    "            vdiff_grids[ii, jj, 0] = np.abs(np.mean(np.dot(vs[inbox][:, 0], vs[inbox][:, 1])) \\\n",
    "                                - np.mean(np.dot(ref_vs[ref_inbox][:, 0], ref_vs[ref_inbox][:, 1])))\n",
    "    pdiff = np.sqrt(np.nanmean(pdiff_grids))\n",
    "    vdiff = np.sqrt(np.nanmean(vdiff_grids))\n",
    "    return pdiff, vdiff"
   ]
  },
  {
   "cell_type": "code",
   "execution_count": 11,
   "metadata": {},
   "outputs": [],
   "source": [
    "dxlist = [0.01, 0.02, 0.04, 0.05, 0.08, 0.1, 0.2, 0.4, 0.5, 0.8, 1.0]\n",
    "\n",
    "def get_diff(dname):\n",
    "    sizelist = []\n",
    "    vlist = []\n",
    "    plist = []\n",
    "    poslist = []\n",
    "    vlist, plist, poslist, sizelist = read_data(dname, vlist, plist, poslist, sizelist)\n",
    "    ref_dx = dxlist[0]\n",
    "    ref_locs = poslist[0]\n",
    "    ref_ps = plist[0]\n",
    "    ref_vs = vlist[0]\n",
    "    pdiff_list = np.zeros((len(dxlist) - 1))\n",
    "    vdiff_list = np.zeros((len(dxlist) - 1))\n",
    "    for i in range(1, len(dxlist)):\n",
    "        dx = dxlist[i]\n",
    "        bsize = 2 * 1.3 * dx\n",
    "        locs = poslist[i]\n",
    "        ps = plist[i]\n",
    "        vs = vlist[i]\n",
    "\n",
    "        inum = int((20 + bsize) / bsize) + 1\n",
    "        jnum = int((10 + bsize) / bsize) + 1\n",
    "        grids = np.zeros((inum, jnum, 2))\n",
    "        pdiff_grids = np.zeros((inum-1, jnum-1, 1))\n",
    "        vdiff_grids = np.zeros((inum-1, jnum-1, 1))\n",
    "        for ig in range(inum):\n",
    "            for jg in range(jnum):\n",
    "                grids[ig, jg, 0] = -bsize + ig * bsize\n",
    "                grids[ig, jg, 1] = -bsize + jg * bsize\n",
    "        for ii in range(inum-1):\n",
    "            for jj in range(jnum-1):\n",
    "                xmin, ymin = grids[ii, jj, 0], grids[ii, jj, 1]\n",
    "                xmax, ymax = grids[ii+1, jj+1, 0], grids[ii+1, jj+1, 1]\n",
    "                inbox = np.where((locs[:, 0] >= xmin) & (locs[:, 0] <= xmax) & (locs[:, 1] >= ymin) & (locs[:, 1] <= ymax)) \n",
    "                ref_inbox = np.where((ref_locs[:, 0] >= xmin) & (ref_locs[:, 0] <= xmax) & (ref_locs[:, 1] >= ymin) & (ref_locs[:, 1] <= ymax)) \n",
    "\n",
    "                pdiff_grids[ii, jj, 0] = np.abs(np.mean(ps[inbox]) - np.mean(np.mean(ref_ps[inbox])))\n",
    "                vdiff_grids[ii, jj, 0] = np.abs(np.mean(np.dot(vs[inbox][:, 0], vs[inbox][:, 1])) \\\n",
    "                                    - np.mean(np.dot(ref_vs[ref_inbox][:, 0], ref_vs[ref_inbox][:, 1])))\n",
    "                \n",
    "        pdiff_list[i-1] = np.sqrt(np.nanmean(pdiff_grids))\n",
    "        vdiff_list[i-1] = np.sqrt(np.nanmean(vdiff_grids))\n",
    "        return pdiff_list, vdiff_list"
   ]
  },
  {
   "cell_type": "code",
   "execution_count": null,
   "metadata": {},
   "outputs": [],
   "source": [
    "ie_pdiff, ie_vdiff = get_diff('ie')\n"
   ]
  },
  {
   "cell_type": "code",
   "execution_count": 149,
   "metadata": {},
   "outputs": [
    {
     "data": {
      "text/plain": [
       "(array([0, 1]),)"
      ]
     },
     "execution_count": 149,
     "metadata": {},
     "output_type": "execute_result"
    }
   ],
   "source": [
    "a = np.array([[2, 1], [0, 2], [1, 3]])\n",
    "np.where((a[:,0] >= 0) & (a[:,1] <=2))"
   ]
  },
  {
   "cell_type": "code",
   "execution_count": null,
   "metadata": {},
   "outputs": [],
   "source": []
  }
 ],
 "metadata": {
  "kernelspec": {
   "display_name": "Python 3",
   "language": "python",
   "name": "python3"
  },
  "language_info": {
   "codemirror_mode": {
    "name": "ipython",
    "version": 3
   },
   "file_extension": ".py",
   "mimetype": "text/x-python",
   "name": "python",
   "nbconvert_exporter": "python",
   "pygments_lexer": "ipython3",
   "version": "3.7.3"
  }
 },
 "nbformat": 4,
 "nbformat_minor": 2
}
